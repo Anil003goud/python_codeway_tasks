{
 "cells": [
  {
   "cell_type": "markdown",
   "id": "e52ac081",
   "metadata": {},
   "source": [
    "$task-2$"
   ]
  },
  {
   "cell_type": "markdown",
   "id": "94dbe5c5",
   "metadata": {},
   "source": [
    "Design a simple calculator with basic arithmetic operations. Prompt the\n",
    "user to input two numbers and an operation choice. Perform the\n",
    "calculation and display the result."
   ]
  },
  {
   "cell_type": "code",
   "execution_count": 2,
   "id": "3e7c57c5",
   "metadata": {
    "scrolled": true
   },
   "outputs": [
    {
     "name": "stdout",
     "output_type": "stream",
     "text": [
      "for addition press 1\n",
      "for substraction press 2\n",
      "for multiplication press 3\n",
      "for division press 4\n",
      "select the math operator : 2\n",
      "enter the number : 20\n",
      "enter the number : 10\n",
      "the substraction of two numbers is : 10\n"
     ]
    }
   ],
   "source": [
    "for i in range(4):\n",
    "    print(\"for addition press 1\")\n",
    "    print(\"for substraction press 2\")\n",
    "    print(\"for multiplication press 3\")\n",
    "    print(\"for division press 4\")\n",
    "    break\n",
    "math_operator=eval(input(\"select the math operator : \"))\n",
    "num1=eval(input(\"enter the number : \"))\n",
    "num2=eval(input(\"enter the number : \"))\n",
    "if math_operator==1:\n",
    "    a=num1+num2\n",
    "    print(\"the addition of two numbers is :\",a)\n",
    "elif math_operator==2:\n",
    "    if num1>num2:\n",
    "        b=num1-num2\n",
    "        print(\"the substraction of two numbers is :\",b)\n",
    "    else:\n",
    "        c=num2-num1\n",
    "        print(\"the substraction of two numbers is :\",c)\n",
    "elif math_operator==3:\n",
    "    d=num1*num2\n",
    "    print(\"the multiplication of two numbers is :\",d)\n",
    "elif math_operator==4:\n",
    "    if num1>num2:\n",
    "        e=num1/num2\n",
    "        print(\"the division of two numbers is :\",e)\n",
    "    else:\n",
    "        f=num2/num1\n",
    "        print(\"the division of two numbers is :\",f)\n",
    "else:\n",
    "    print(\"select the correct arithmetic number\")\n"
   ]
  },
  {
   "cell_type": "markdown",
   "id": "0d0cbbb3",
   "metadata": {},
   "source": [
    "$TASK$ $-$ $3$ $PASSWORD$ $GENERATOR$"
   ]
  },
  {
   "cell_type": "markdown",
   "id": "7ff0314d",
   "metadata": {},
   "source": [
    "\n",
    "A password generator is a useful tool that generates strong and random passwords for\n",
    "users. This project aims to create a password generator application using Python,\n",
    "allowing users to specify the length and complexity of the password.\n",
    "User Input: Prompt the user to specify the desired length of the password.\n",
    "Generate Password: Use a combination of random characters to generate a password of\n",
    "the specified length.\n",
    "Display the Password: Print the generated password on the screen."
   ]
  },
  {
   "cell_type": "code",
   "execution_count": 3,
   "id": "fa8c304d",
   "metadata": {},
   "outputs": [
    {
     "name": "stdout",
     "output_type": "stream",
     "text": [
      "Authentication\n",
      "Enter how many letter you want ? 5\n",
      "Enter how many number you want ? 2\n",
      "Enter how many special character you want ? 2\n",
      "your password is F482*V$*iTME\n"
     ]
    }
   ],
   "source": [
    "import random\n",
    "password=[]\n",
    "alphabet=['a', 'b', 'c', 'd', 'e', 'f', 'g', 'h', 'i', 'j', 'k', 'l', \n",
    "          'm', 'n', 'o','p', 'q', 'r', 's', 't', 'u', 'v', 'w', 'x', 'y', 'z',\n",
    "          \"A\", \"B\", \"C\", \"D\", \"E\", \"F\", \"G\", \"H\", \"I\", \"J\", \"K\", \"L\", \"M\", \n",
    "          \"O\", \"P\", \"Q\", \"R\", \"S\", \"T\", \"U\", \"V\", \"W\", \"X\", \"Y\", \"Z\"]\n",
    "numbers=[\"0\", \"1\", \"2\", \"3\", \"4\", \"5\", \"6\", \"7\", \"8\", \"9\"]\n",
    "character=[\"!\" , \"@\" , \"#\" , \"$\" , \"%\" , \"^\" , \"&\" , \"*\" , \"(\" , \")\" ]\n",
    "print('Authentication')\n",
    "alpha_req=int(input('Enter how many letter you want ? '))\n",
    "num_req=int(input('Enter how many number you want ? '))\n",
    "char_req=int(input('Enter how many special character you want ? '))\n",
    "for i in range(0,alpha_req+1):\n",
    "    alpha=random.choice(alphabet)\n",
    "    password.append(alpha)\n",
    "for i in range(0,num_req+1):\n",
    "    num=random.choice(numbers)\n",
    "    password.append(num)\n",
    "for i in range(0,char_req+1):\n",
    "    char=random.choice(character)\n",
    "    password.append(char)\n",
    "\n",
    "random.shuffle(password)\n",
    "pswd=''.join(password)\n",
    "print(f'your password is {pswd}')"
   ]
  },
  {
   "cell_type": "markdown",
   "id": "dd383330",
   "metadata": {},
   "source": [
    "$TASK$ $-$ $5$ $QUIZ$ $GAME$"
   ]
  },
  {
   "cell_type": "markdown",
   "id": "b2d84e0e",
   "metadata": {},
   "source": [
    "Develop a quiz game that asks users multiple-choice or fill-in-the-blank questions on a\n",
    "specific topic. The game should keep track of scores, provide feedback on\n",
    "correct/incorrect answers, and offer a variety of questions to make it challenging and\n",
    "engaging"
   ]
  },
  {
   "cell_type": "code",
   "execution_count": 1,
   "id": "538be202",
   "metadata": {},
   "outputs": [
    {
     "name": "stdout",
     "output_type": "stream",
     "text": [
      "who is the pm of india ? : 1.Narendra Modi , 2.revanth reddy\n",
      "enter your answer :modi\n",
      "the correct answer are narendra modi\n",
      "your score is  0\n",
      "what is the capital of india ? : 1.Hyderabad , 2.Delhi\n",
      "enter your answer :reventh\n",
      "the correct answer are delhi\n",
      "your score is  0\n",
      "How many states are in India ? : 1.30 , 2.29\n",
      "enter your answer :delghi\n",
      "the correct answer are 29\n",
      "your score is  0\n",
      "Want to play again : yes or no :no\n"
     ]
    }
   ],
   "source": [
    "def game():\n",
    "    qns=['who is the pm of india ? : 1.Narendra Modi , 2.revanth reddy',\n",
    "         'what is the capital of india ? : 1.Hyderabad , 2.Delhi',\n",
    "         'How many states are in India ? : 1.30 , 2.29']\n",
    "    ans=['narendra modi','delhi','29']\n",
    "    b=len(qns)\n",
    "    count=0\n",
    "    for i in range(0,b):\n",
    "        print(qns[i])\n",
    "        answer=input(\"enter your answer :\")\n",
    "        if answer.casefold()==ans[i].casefold():\n",
    "            count=count+1\n",
    "        else:print(f'the correct answer are {ans[i].casefold()}')\n",
    "        print('your score is ',count)\n",
    "game()\n",
    "\n",
    "play=input('Want to play again : yes or no :')\n",
    "if play=='yes':\n",
    "    game()\n"
   ]
  },
  {
   "cell_type": "code",
   "execution_count": null,
   "id": "9c88db9a",
   "metadata": {},
   "outputs": [],
   "source": []
  },
  {
   "cell_type": "code",
   "execution_count": null,
   "id": "8765302f",
   "metadata": {},
   "outputs": [],
   "source": []
  },
  {
   "cell_type": "code",
   "execution_count": null,
   "id": "f7e7060c",
   "metadata": {},
   "outputs": [],
   "source": []
  }
 ],
 "metadata": {
  "kernelspec": {
   "display_name": "Python 3 (ipykernel)",
   "language": "python",
   "name": "python3"
  },
  "language_info": {
   "codemirror_mode": {
    "name": "ipython",
    "version": 3
   },
   "file_extension": ".py",
   "mimetype": "text/x-python",
   "name": "python",
   "nbconvert_exporter": "python",
   "pygments_lexer": "ipython3",
   "version": "3.11.5"
  }
 },
 "nbformat": 4,
 "nbformat_minor": 5
}
